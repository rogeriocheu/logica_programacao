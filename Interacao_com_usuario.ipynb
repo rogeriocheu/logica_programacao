{
  "nbformat": 4,
  "nbformat_minor": 0,
  "metadata": {
    "colab": {
      "provenance": []
    },
    "kernelspec": {
      "name": "python3",
      "display_name": "Python 3"
    },
    "language_info": {
      "name": "python"
    }
  },
  "cells": [
    {
      "cell_type": "code",
      "execution_count": 1,
      "metadata": {
        "colab": {
          "base_uri": "https://localhost:8080/"
        },
        "id": "qUP5B3quktmn",
        "outputId": "b35b38aa-ef08-4d67-9912-3adffe127840"
      },
      "outputs": [
        {
          "output_type": "stream",
          "name": "stdout",
          "text": [
            "Conhecendo o comando print\n",
            "8\n"
          ]
        }
      ],
      "source": [
        "print ('Conhecendo o comando print')\n",
        "\n",
        "x= 8\n",
        "print (x)"
      ]
    },
    {
      "cell_type": "code",
      "source": [
        "y = 10\n",
        "soma = x + y\n",
        "print (soma)"
      ],
      "metadata": {
        "colab": {
          "base_uri": "https://localhost:8080/"
        },
        "id": "r7aZx7-ElJH7",
        "outputId": "afaaafa6-dddf-4759-8223-ec0a3a732411"
      },
      "execution_count": 8,
      "outputs": [
        {
          "output_type": "stream",
          "name": "stdout",
          "text": [
            "15\n"
          ]
        }
      ]
    },
    {
      "cell_type": "code",
      "source": [
        "nome = 'Rogerio Ferreira'\n",
        "print(nome)\n"
      ],
      "metadata": {
        "colab": {
          "base_uri": "https://localhost:8080/"
        },
        "id": "K7vIk-2TnlRu",
        "outputId": "0b5a3099-8c2e-441c-a725-2edc1df48908"
      },
      "execution_count": 10,
      "outputs": [
        {
          "output_type": "stream",
          "name": "stdout",
          "text": [
            "Rogerio Ferreira\n"
          ]
        }
      ]
    },
    {
      "cell_type": "markdown",
      "source": [
        "Concatenação"
      ],
      "metadata": {
        "id": "tLdy1J_qlSlz"
      }
    },
    {
      "cell_type": "code",
      "source": [
        "x = 5\n",
        "print ('O valor de x é', x)"
      ],
      "metadata": {
        "colab": {
          "base_uri": "https://localhost:8080/"
        },
        "id": "lYSWNb2BlUl7",
        "outputId": "c9da7fa2-def4-414a-cc31-49a32b3b55ae"
      },
      "execution_count": 3,
      "outputs": [
        {
          "output_type": "stream",
          "name": "stdout",
          "text": [
            "O valor de x é 5\n"
          ]
        }
      ]
    },
    {
      "cell_type": "code",
      "source": [
        "print('O valor de x é:', x, 'e o dobro é: ', x * 2)"
      ],
      "metadata": {
        "colab": {
          "base_uri": "https://localhost:8080/"
        },
        "id": "MZ-tajIdlazF",
        "outputId": "03b65ff1-3300-4d54-f755-397be91119e8"
      },
      "execution_count": 4,
      "outputs": [
        {
          "output_type": "stream",
          "name": "stdout",
          "text": [
            "O valor de x é: 5 e o dobro é:  10\n"
          ]
        }
      ]
    },
    {
      "cell_type": "code",
      "source": [
        "print ('Eu,', nome, 'tirei', x,'na prova de Python')\n"
      ],
      "metadata": {
        "colab": {
          "base_uri": "https://localhost:8080/"
        },
        "id": "eZE47iI_losu",
        "outputId": "c1cc08ae-fcb5-4202-b90e-d8a6ad51a9ee"
      },
      "execution_count": 11,
      "outputs": [
        {
          "output_type": "stream",
          "name": "stdout",
          "text": [
            "Eu, Rogerio Ferreira tirei 5 na prova de Python\n"
          ]
        }
      ]
    },
    {
      "cell_type": "code",
      "source": [
        "y = 10; z = 20 + x + y\n",
        "print ('Declarar várias variaveis na mesma linha:', y, z)"
      ],
      "metadata": {
        "colab": {
          "base_uri": "https://localhost:8080/"
        },
        "id": "o-Qr79eFl0cH",
        "outputId": "af1fc82c-39b8-4fdb-f495-92fc6b3ec879"
      },
      "execution_count": 12,
      "outputs": [
        {
          "output_type": "stream",
          "name": "stdout",
          "text": [
            "Declarar várias variaveis na mesma linha: 10 35\n"
          ]
        }
      ]
    },
    {
      "cell_type": "markdown",
      "source": [
        "Type"
      ],
      "metadata": {
        "id": "o6sOhKYHoMtr"
      }
    },
    {
      "cell_type": "code",
      "source": [
        "x = 10\n",
        "type (x)\n",
        "print ('x', type(x))\n",
        "\n",
        "nome = 'Rogerio'\n",
        "print ('nome', type(nome))\n",
        "\n",
        "num = 100\n",
        "num_convert = int(num) #converter variavel\n",
        "print ('num', type(num))\n",
        "print ('num_conver', type(num_convert))\n",
        "\n",
        "num_float = float(num)\n",
        "print ('num_float', num_float)\n",
        "\n"
      ],
      "metadata": {
        "colab": {
          "base_uri": "https://localhost:8080/"
        },
        "id": "4AfZZw7ioOCT",
        "outputId": "b97aedab-dd79-4be0-eef4-de2dc6b0c756"
      },
      "execution_count": 20,
      "outputs": [
        {
          "output_type": "stream",
          "name": "stdout",
          "text": [
            "x <class 'int'>\n",
            "nome <class 'str'>\n",
            "num <class 'int'>\n",
            "num_conver <class 'int'>\n",
            "num_float 100.0\n"
          ]
        }
      ]
    },
    {
      "cell_type": "markdown",
      "source": [
        "Input\n",
        "\n",
        "*   Armazenar a informação digitada pelo usuario em uma variavel\n",
        "*   o dado armazenado sempre sera um texto\n",
        "\n"
      ],
      "metadata": {
        "id": "FeA__2tSpcaG"
      }
    },
    {
      "cell_type": "code",
      "source": [
        "nome = input ('Digite o nome do usuario: ')\n",
        "print ('O nome do usuario é:', nome)"
      ],
      "metadata": {
        "colab": {
          "base_uri": "https://localhost:8080/"
        },
        "id": "Vm4pp51-pdiG",
        "outputId": "87bad4ff-4c5f-42b5-9ee2-e8351810b7d3"
      },
      "execution_count": 15,
      "outputs": [
        {
          "output_type": "stream",
          "name": "stdout",
          "text": [
            "Digite o nome do usuario: Rogerio\n",
            "O nome do usuario é: Rogerio\n"
          ]
        }
      ]
    },
    {
      "cell_type": "code",
      "source": [
        "valor = input ('Digite a nota: ')\n",
        "print (nome, 'sua nota foi: ', valor)"
      ],
      "metadata": {
        "colab": {
          "base_uri": "https://localhost:8080/"
        },
        "id": "TQkEZm57p0Tz",
        "outputId": "9a836249-dcb2-4545-a65d-1f37eb4b1f04"
      },
      "execution_count": 28,
      "outputs": [
        {
          "output_type": "stream",
          "name": "stdout",
          "text": [
            "Digite a nota: 10\n",
            "Rogerio sua nota foi:  10\n"
          ]
        }
      ]
    },
    {
      "cell_type": "code",
      "source": [
        "valor = input ('Digite o valor do produto: ')\n",
        "print (valor)"
      ],
      "metadata": {
        "colab": {
          "base_uri": "https://localhost:8080/"
        },
        "id": "5JxAExDDs8FW",
        "outputId": "4280fcb2-4208-411d-e7bd-10ef4196ee65"
      },
      "execution_count": 30,
      "outputs": [
        {
          "output_type": "stream",
          "name": "stdout",
          "text": [
            "Digite o valor do produto: 100\n",
            "100\n"
          ]
        }
      ]
    },
    {
      "cell_type": "code",
      "source": [
        "desconto = valor - 5"
      ],
      "metadata": {
        "colab": {
          "base_uri": "https://localhost:8080/",
          "height": 141
        },
        "id": "QzjBH0vzrBft",
        "outputId": "2684615b-0dae-4092-95c1-93534cd855ab"
      },
      "execution_count": 29,
      "outputs": [
        {
          "output_type": "error",
          "ename": "TypeError",
          "evalue": "unsupported operand type(s) for -: 'str' and 'int'",
          "traceback": [
            "\u001b[0;31m---------------------------------------------------------------------------\u001b[0m",
            "\u001b[0;31mTypeError\u001b[0m                                 Traceback (most recent call last)",
            "\u001b[0;32m/tmp/ipython-input-29-2171237004.py\u001b[0m in \u001b[0;36m<cell line: 0>\u001b[0;34m()\u001b[0m\n\u001b[0;32m----> 1\u001b[0;31m \u001b[0mdesconto\u001b[0m \u001b[0;34m=\u001b[0m \u001b[0mvalor\u001b[0m \u001b[0;34m-\u001b[0m \u001b[0;36m5\u001b[0m\u001b[0;34m\u001b[0m\u001b[0;34m\u001b[0m\u001b[0m\n\u001b[0m",
            "\u001b[0;31mTypeError\u001b[0m: unsupported operand type(s) for -: 'str' and 'int'"
          ]
        }
      ]
    },
    {
      "cell_type": "code",
      "source": [
        "valor_convert = int(valor)\n",
        "desconto = valor_convert - 5\n",
        "print (desconto)"
      ],
      "metadata": {
        "colab": {
          "base_uri": "https://localhost:8080/"
        },
        "id": "K6sjuGAtrFV-",
        "outputId": "6a11498f-b065-4ef8-8a4f-16c7607b6f9d"
      },
      "execution_count": 31,
      "outputs": [
        {
          "output_type": "stream",
          "name": "stdout",
          "text": [
            "95\n"
          ]
        }
      ]
    },
    {
      "cell_type": "code",
      "source": [
        "desconto = int(valor) - 5\n",
        "print (desconto)"
      ],
      "metadata": {
        "colab": {
          "base_uri": "https://localhost:8080/"
        },
        "id": "QL5dkM8RrsNB",
        "outputId": "0bcbfe94-666e-432c-f463-0e0ddae3c1c6"
      },
      "execution_count": 27,
      "outputs": [
        {
          "output_type": "stream",
          "name": "stdout",
          "text": [
            "15\n"
          ]
        }
      ]
    }
  ]
}